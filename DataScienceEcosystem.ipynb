{
 "cells": [
  {
   "cell_type": "markdown",
   "id": "338b2508-7dfa-4fb6-98fe-f5656acd9d47",
   "metadata": {},
   "source": [
    "# Data Science Tools and Ecosystem"
   ]
  },
  {
   "cell_type": "markdown",
   "id": "f4f19579-c6d0-4acf-aa14-eb514824eefa",
   "metadata": {},
   "source": [
    "**Objectives :**\n",
    "* List Popular DS Languages\n",
    "* List Popular DS Libraries\n",
    "* List of DS Tools\n",
    "* Perform simple arithmetic\n"
   ]
  },
  {
   "cell_type": "markdown",
   "id": "33d0271e-ee1a-42dc-b079-5407050c96a7",
   "metadata": {},
   "source": [
    "In this notebook, Data Science Tools and Ecosystem are summarized."
   ]
  },
  {
   "cell_type": "markdown",
   "id": "ae1e3999-0857-4144-b688-d51d6d9ffaf0",
   "metadata": {},
   "source": [
    "Some of the popular languages that Data Scientists use are:\n",
    "1. Python\n",
    "2. R\n",
    "3. Scala\n",
    "4. Swift\n",
    "5. JavaScript"
   ]
  },
  {
   "cell_type": "markdown",
   "id": "4d9a1026-7c64-48f6-8840-30e439f6fff3",
   "metadata": {},
   "source": [
    "Some of the commonly used libraries used by Data Scientists include:\n",
    "1. Pandas\n",
    "2. Numpy\n",
    "3. Matplotlib\n",
    "4. Seaborn\n",
    "5. nltk"
   ]
  },
  {
   "cell_type": "markdown",
   "id": "bba9e2fc-898b-46db-a772-b6db3b9dc478",
   "metadata": {},
   "source": [
    "| Data Science Tools|\n",
    "|-------------------|\n",
    "|R Studio |\n",
    "|Jupyter Lab|\n",
    "|Spyder|"
   ]
  },
  {
   "cell_type": "markdown",
   "id": "650214ae-4066-4494-906f-4bde270a35f5",
   "metadata": {},
   "source": [
    "### Below are a few examples of evaluating arithmetic expressions in Python"
   ]
  },
  {
   "cell_type": "code",
   "execution_count": 3,
   "id": "b143b408-521e-4c60-8626-cc0741ffb0cc",
   "metadata": {},
   "outputs": [
    {
     "data": {
      "text/plain": [
       "17"
      ]
     },
     "execution_count": 3,
     "metadata": {},
     "output_type": "execute_result"
    }
   ],
   "source": [
    "# This a simple arithmetic expression to mutiply then add integers\n",
    "(3*4)+5"
   ]
  },
  {
   "cell_type": "code",
   "execution_count": 4,
   "id": "281fbce1-9393-466a-9706-0b3d5b95304c",
   "metadata": {},
   "outputs": [
    {
     "data": {
      "text/plain": [
       "3.3333333333333335"
      ]
     },
     "execution_count": 4,
     "metadata": {},
     "output_type": "execute_result"
    }
   ],
   "source": [
    "# This will convert 200 minutes to hours by diving by 60\n",
    "200/60"
   ]
  },
  {
   "cell_type": "markdown",
   "id": "0be2c3c7-ba93-4837-b70c-cac5cd46c77a",
   "metadata": {},
   "source": [
    "## Author\n",
    "\n",
    "Arun S"
   ]
  },
  {
   "cell_type": "code",
   "execution_count": null,
   "id": "06c29566-cbb0-43cc-b0bf-93c2cccfcb1c",
   "metadata": {},
   "outputs": [],
   "source": []
  }
 ],
 "metadata": {
  "kernelspec": {
   "display_name": "Python 3 (ipykernel)",
   "language": "python",
   "name": "python3"
  },
  "language_info": {
   "codemirror_mode": {
    "name": "ipython",
    "version": 3
   },
   "file_extension": ".py",
   "mimetype": "text/x-python",
   "name": "python",
   "nbconvert_exporter": "python",
   "pygments_lexer": "ipython3",
   "version": "3.10.15"
  }
 },
 "nbformat": 4,
 "nbformat_minor": 5
}
